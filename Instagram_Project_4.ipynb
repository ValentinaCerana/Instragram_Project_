{
 "cells": [
  {
   "cell_type": "code",
   "execution_count": null,
   "metadata": {},
   "outputs": [],
   "source": [
    "#seleziono x posts da un profilo\n",
    "from instaloader import Instaloader, Profile\n",
    "\n",
    "L = Instaloader()\n",
    "\n",
    "profile = Profile.from_username(L.context, 'username_profile')\n",
    "\n",
    "count=1\n",
    "for post in profile.get_posts():\n",
    "    L.download_post(post, target=profile.username)\n",
    "    count +=1\n",
    "    if count ==16:\n",
    "        break"
   ]
  },
  {
   "cell_type": "code",
   "execution_count": null,
   "metadata": {},
   "outputs": [],
   "source": [
    "#scaricare post da una certa data ad una certa data\n",
    "\n",
    "from instaloader import Instaloader, Profile\n",
    "\n",
    "L= Instaloader()\n",
    "\n",
    "from datetime import datetime\n",
    "from itertools import dropwhile, takewhile\n",
    "\n",
    "\n",
    "#posts = L.get_hashtag_posts('hashtag')\n",
    "# or\n",
    "\n",
    "PROFILE='username_profile'\n",
    "posts = instaloader.Profile.from_username(L.context, PROFILE).get_posts()\n",
    "\n",
    "SINCE = datetime(2019, 7, 14)\n",
    "UNTIL = datetime(2019, 1, 1)\n",
    "\n",
    "for post in takewhile(lambda p: p.date > UNTIL, dropwhile(lambda p: p.date > SINCE, posts)):\n",
    "    print(post.date)\n",
    "    L.download_post(post, target=Profile.username)"
   ]
  },
  {
   "cell_type": "code",
   "execution_count": 1,
   "metadata": {},
   "outputs": [],
   "source": [
    "import json\n",
    "import glob\n",
    "l = glob.glob(r\"C:\\Users\\valen\\instagram_posts\\*UTC.json\")\n",
    "detta = []\n",
    "for nome in l:\n",
    "    with open(nome, 'r') as file:\n",
    "        data = file.read().replace('\\n', '')\n",
    "    d = json.loads(data)\n",
    "    detta.append(d)"
   ]
  },
  {
   "cell_type": "code",
   "execution_count": 2,
   "metadata": {},
   "outputs": [],
   "source": [
    "import pandas as pd\n",
    "detts = pd.DataFrame(detta)"
   ]
  },
  {
   "cell_type": "code",
   "execution_count": 3,
   "metadata": {},
   "outputs": [
    {
     "data": {
      "text/plain": [
       "95"
      ]
     },
     "execution_count": 3,
     "metadata": {},
     "output_type": "execute_result"
    }
   ],
   "source": [
    "len(detts)"
   ]
  },
  {
   "cell_type": "code",
   "execution_count": null,
   "metadata": {},
   "outputs": [],
   "source": [
    "import pprint\n",
    "pprint.pprint(detta)"
   ]
  },
  {
   "cell_type": "code",
   "execution_count": 6,
   "metadata": {},
   "outputs": [],
   "source": [
    "from datetime import datetime\n",
    "import re"
   ]
  },
  {
   "cell_type": "code",
   "execution_count": 7,
   "metadata": {},
   "outputs": [],
   "source": [
    "newl=[]\n",
    "for d in detta:\n",
    "    edge_media_to_caption = d['node']['edge_media_to_caption']['edges']\n",
    "    for e in edge_media_to_caption:\n",
    "        caption = e['node']['text']\n",
    "        for has in caption:\n",
    "            hashtag1=re.findall(r'\\#\\w+', caption)\n",
    "    id_post = d['node'] ['id']\n",
    "    nr_comments = 0\n",
    "    edge_media_preview_comment = 0\n",
    "    if('edge_media_preview_comment' in d['node']):\n",
    "        nr_comments = d['node'] ['edge_media_preview_comment'] ['count']\n",
    "        edge_media_preview_comment = d['node'] ['edge_media_preview_comment'] ['edges']\n",
    "    nr_likes = d['node'] ['edge_media_preview_like'] ['count']\n",
    "    location_name = \"\"\n",
    "    lat = 0\n",
    "    lng = 0\n",
    "    if(('location' in d['node']) and ( d['node']['location'] != None)):\n",
    "        if('name' in d['node']['location']):\n",
    "            location_name = d['node']['location']['name']\n",
    "            lat = d['node'] ['location'] ['lat']\n",
    "            lng = d['node'] ['location'] ['lng']\n",
    "    followers = d['node'] ['owner'] ['edge_followed_by'] ['count']\n",
    "    followed = d['node'] ['owner'] ['edge_follow'] ['count']\n",
    "    full_name = d['node'] ['owner'] ['full_name']\n",
    "    img_class= \"\"\n",
    "    if(('accessibility_caption' in d['node']) and ('accessibility_caption' in d['node'] != None)):\n",
    "        img_class = d ['node'] ['accessibility_caption']\n",
    "    age = d['node'] ['owner'] ['highlight_reel_count']\n",
    "    id_user = d['node'] ['owner'] ['id']\n",
    "    username = d['node'] ['owner'] ['username']\n",
    "    date_post = d['node'] ['taken_at_timestamp']\n",
    "    date_p = datetime.fromtimestamp(date_post)\n",
    "    if('edge_media_to_parent_comment' in d['node']):\n",
    "        edge_media_to_parent_comment = d['node'] ['edge_media_to_parent_comment'] ['edges']\n",
    "        for f in edge_media_to_parent_comment:\n",
    "            date_comment = f['node'] ['created_at']\n",
    "            date_c = datetime.fromtimestamp(date_comment)\n",
    "            user_comment = f['node'] ['owner'] ['username']\n",
    "            text_comment = f['node'] ['text']\n",
    "            for has in text_comment:\n",
    "                hashtag=re.findall(r'\\#\\w+', text_comment)\n",
    "                hashtags = hashtag + hashtag1\n",
    "                nr_hashtags = len(hashtags)\n",
    "            newl.append({'caption': caption, 'id_post':id_post, 'nr_comments':nr_comments, 'date_c':date_c, \n",
    "                         'nr_likes':nr_likes,' text_comment': text_comment, 'location_name':location_name, 'lat':lat, \n",
    "                         'lng':lng,'img_class':img_class,\n",
    "                         'followers':followers, 'followed':followed, 'full_name':full_name, 'age':age,\n",
    "                         'id_user':id_user, 'username':username, 'user_comment':user_comment, 'date_p':date_p, \n",
    "                         'hashtags':hashtags, 'nr_hashtags':nr_hashtags})\n",
    "            "
   ]
  },
  {
   "cell_type": "code",
   "execution_count": 8,
   "metadata": {},
   "outputs": [],
   "source": [
    "ds_newl = pd.DataFrame(newl)\n",
    "ds_newl.to_csv(r'C:\\Users\\valen\\Downloads\\instagram_posts.csv')"
   ]
  },
  {
   "cell_type": "code",
   "execution_count": null,
   "metadata": {},
   "outputs": [],
   "source": [
    "Image_list = []\n",
    "import time\n",
    "from clarifai.rest import ClarifaiApp\n",
    "\n",
    "clarifai_key = \"yourKey\"\n",
    "app = ClarifaiApp(api_key=clarifai_key)\n",
    "model = app.public_models.general_model\n",
    "\n",
    "for filename in glob.glob(r'C:\\Users\\valen\\instagram_posts\\photos\\*.jpg'):\n",
    "    time.sleep(5)\n",
    "    print(filename)\n",
    "    response = model.predict_by_filename(filename) \n",
    "    if(response['status']['description'] == \"Ok\"):\n",
    "        for concept in response[\"outputs\"][0][\"data\"][\"concepts\"]:\n",
    "            name = concept[\"name\"]\n",
    "            value = concept[\"value\"]\n",
    "            Image_list.append({'immagine': filename, 'name': name,\n",
    "        'value': value})\n",
    "    \n",
    "print(Image_list)"
   ]
  },
  {
   "cell_type": "code",
   "execution_count": 29,
   "metadata": {},
   "outputs": [
    {
     "data": {
      "text/plain": [
       "6540"
      ]
     },
     "execution_count": 29,
     "metadata": {},
     "output_type": "execute_result"
    }
   ],
   "source": [
    "len(Image_list)"
   ]
  },
  {
   "cell_type": "code",
   "execution_count": 30,
   "metadata": {},
   "outputs": [
    {
     "data": {
      "text/plain": [
       "6540"
      ]
     },
     "execution_count": 30,
     "metadata": {},
     "output_type": "execute_result"
    }
   ],
   "source": [
    "import pandas as pd\n",
    "ds_img = pd.DataFrame(Image_list)\n",
    "\n",
    "len(ds_img)"
   ]
  },
  {
   "cell_type": "code",
   "execution_count": 31,
   "metadata": {},
   "outputs": [],
   "source": [
    "ds_img.to_csv(r'C:\\Users\\valen\\Downloads\\instagram_images.csv')"
   ]
  },
  {
   "cell_type": "code",
   "execution_count": 342,
   "metadata": {},
   "outputs": [],
   "source": [
    "import pandas as pd \n",
    "full=pd.read_csv(r'C:\\Users\\valen\\Downloads\\instagram_posts.2.csv', sep=',', na_values='NaN')"
   ]
  },
  {
   "cell_type": "code",
   "execution_count": null,
   "metadata": {},
   "outputs": [],
   "source": [
    "unique_hash_post=full['hashtags'].unique()\n",
    "print(unique_hash_post)"
   ]
  },
  {
   "cell_type": "code",
   "execution_count": null,
   "metadata": {},
   "outputs": [],
   "source": [
    "hashtag_total= unique_hash_post.tolist()\n",
    "print(hashtag_total)\n"
   ]
  },
  {
   "cell_type": "code",
   "execution_count": null,
   "metadata": {},
   "outputs": [],
   "source": [
    "newlist = [word for line in hashtag_total for word in line.split()]\n",
    "print (newlist)"
   ]
  },
  {
   "cell_type": "code",
   "execution_count": 470,
   "metadata": {},
   "outputs": [],
   "source": [
    "newlist = [w.replace(\"[\", \"''\").replace(\",\",\"''\").replace(\"]\",\"''\").replace(\"'\",\" \")for w in newlist]"
   ]
  },
  {
   "cell_type": "code",
   "execution_count": 471,
   "metadata": {},
   "outputs": [],
   "source": [
    "ds_newlist = pd.DataFrame(newlist)\n"
   ]
  },
  {
   "cell_type": "code",
   "execution_count": 472,
   "metadata": {},
   "outputs": [
    {
     "data": {
      "text/html": [
       "<div>\n",
       "<style scoped>\n",
       "    .dataframe tbody tr th:only-of-type {\n",
       "        vertical-align: middle;\n",
       "    }\n",
       "\n",
       "    .dataframe tbody tr th {\n",
       "        vertical-align: top;\n",
       "    }\n",
       "\n",
       "    .dataframe thead th {\n",
       "        text-align: right;\n",
       "    }\n",
       "</style>\n",
       "<table border=\"1\" class=\"dataframe\">\n",
       "  <thead>\n",
       "    <tr style=\"text-align: right;\">\n",
       "      <th></th>\n",
       "      <th>0</th>\n",
       "    </tr>\n",
       "  </thead>\n",
       "  <tbody>\n",
       "    <tr>\n",
       "      <th>0</th>\n",
       "      <td>#trekking</td>\n",
       "    </tr>\n",
       "    <tr>\n",
       "      <th>1</th>\n",
       "      <td>#escursionismo</td>\n",
       "    </tr>\n",
       "    <tr>\n",
       "      <th>2</th>\n",
       "      <td>#montagna</td>\n",
       "    </tr>\n",
       "    <tr>\n",
       "      <th>3</th>\n",
       "      <td>#trentino</td>\n",
       "    </tr>\n",
       "    <tr>\n",
       "      <th>4</th>\n",
       "      <td>#molveno</td>\n",
       "    </tr>\n",
       "  </tbody>\n",
       "</table>\n",
       "</div>"
      ],
      "text/plain": [
       "                    0\n",
       "0        #trekking   \n",
       "1   #escursionismo   \n",
       "2        #montagna   \n",
       "3        #trentino   \n",
       "4         #molveno   "
      ]
     },
     "execution_count": 472,
     "metadata": {},
     "output_type": "execute_result"
    }
   ],
   "source": [
    "ds_newlist.head()"
   ]
  },
  {
   "cell_type": "code",
   "execution_count": 473,
   "metadata": {},
   "outputs": [
    {
     "data": {
      "text/plain": [
       "4275"
      ]
     },
     "execution_count": 473,
     "metadata": {},
     "output_type": "execute_result"
    }
   ],
   "source": [
    "len(ds_newlist)"
   ]
  },
  {
   "cell_type": "code",
   "execution_count": 474,
   "metadata": {},
   "outputs": [],
   "source": [
    "ds_newlist.to_csv(r'C:\\Users\\valen\\Downloads\\instagram_hashtags.csv')"
   ]
  }
 ],
 "metadata": {
  "kernelspec": {
   "display_name": "Python 3",
   "language": "python",
   "name": "python3"
  },
  "language_info": {
   "codemirror_mode": {
    "name": "ipython",
    "version": 3
   },
   "file_extension": ".py",
   "mimetype": "text/x-python",
   "name": "python",
   "nbconvert_exporter": "python",
   "pygments_lexer": "ipython3",
   "version": "3.7.3"
  }
 },
 "nbformat": 4,
 "nbformat_minor": 2
}
